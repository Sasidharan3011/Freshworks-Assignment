{
 "cells": [
  {
   "cell_type": "code",
   "execution_count": 1,
   "metadata": {},
   "outputs": [],
   "source": [
    "import os\n",
    "import sys\n",
    "import json\n",
    "import threading\n",
    "from datetime import datetime\n",
    "\n",
    "class key_value_datastore:\n",
    "    \n",
    "    def __init__(self,dir_path=os.getcwd(),filename=\"file.json\"):\n",
    "        self.lock=threading.Lock()\n",
    "        self.dir_path=dir_path\n",
    "        self.filename=filename\n",
    "        if os.path.exists(self.dir_path):\n",
    "            if os.path.exists(os.path.join(self.dir_path,self.filename)):\n",
    "                pass\n",
    "            else:\n",
    "                try:\n",
    "                    with open(os.path.join(self.dir_path,self.filename),\"w\") as f:\n",
    "                        self.json_object={}\n",
    "                        json.dump(self.json_object,fp=f,indent=3)\n",
    "                except:\n",
    "                    raise RuntimeError(\"Error in opening the file\")\n",
    "        else:\n",
    "            os.mkdir(self.dir_path)\n",
    "            try:\n",
    "                with  open(os.path.join(self.dir_path,self.filename),\"w\") as f:\n",
    "                    self.json_object={}\n",
    "                    json.dump(self.json_object,fp=f,indent=3)\n",
    "            except:\n",
    "                raise RuntimeError(\"Error in opening the file\")\n",
    "            \n",
    "            \n",
    "    def create(self,key,value,ttl=0):\n",
    "        self.lock.acquire()\n",
    "        try:\n",
    "            if os.path.getsize(os.path.join(self.dir_path,self.filename))>10**9:\n",
    "                raise RuntimeError(\"The datastore has no space\")\n",
    "                \n",
    "            with open(os.path.join(self.dir_path,self.filename),\"r\") as f:\n",
    "                    json_object=json.load(f)\n",
    "                    \n",
    "            if key not in json_object.keys():\n",
    "                if type(key)==str:\n",
    "                    if len(key)<32:\n",
    "                        self.created_time=datetime.now()\n",
    "                        json_object[key]=[value,ttl,str(self.created_time)]\n",
    "                        if sys.getsizeof(json_object[key])>16000:\n",
    "                            raise RuntimeError(\"value size is more than 16KB\")\n",
    "                    else:\n",
    "                        raise ValueError(\"key should contain only 32 characters\")\n",
    "                else:\n",
    "                    raise TypeError(\"key should be of string type\")\n",
    "            else:\n",
    "                raise RuntimeError(\"key already exists\")\n",
    "            with open(os.path.join(self.dir_path,self.filename),\"w\") as f:\n",
    "                json.dump(json_object,fp=f,indent=3)\n",
    "        finally:\n",
    "            self.lock.release()\n",
    "            \n",
    "            \n",
    "    def __getattr__(self,key):\n",
    "        self.lock.acquire()\n",
    "        try:\n",
    "            with open(os.path.join(self.dir_path,self.filename),\"r\") as f:\n",
    "                    json_object=json.load(f)\n",
    "                    \n",
    "            if key in json_object.keys():\n",
    "        #Logic used for setting time to live property\n",
    "                if json_object[key][1] != 0:\n",
    "                    curr_time=datetime.now()\n",
    "                    time_diff=curr_time - datetime.strptime(json_object[key][2],\"%Y-%m-%d %H:%M:%S.%f\")\n",
    "                    if time_diff.seconds < json_object[key][1]:\n",
    "                        return json_object[key][0]\n",
    "                    else:\n",
    "                        raise RuntimeError(\"Key got expired\")\n",
    "                else:\n",
    "                    return json_object[key][0]\n",
    "            else:\n",
    "                raise KeyError(\"key not found\")\n",
    "        finally:\n",
    "            self.lock.release()\n",
    "    \n",
    "    \n",
    "    def __delitem__(self,key):\n",
    "        self.lock.acquire()\n",
    "        try:\n",
    "            with open(os.path.join(self.dir_path,self.filename),\"r\") as f:\n",
    "                    json_object=json.load(f)\n",
    "                    \n",
    "            if key in json_object.keys():\n",
    "                if json_object[key][1]== 0:\n",
    "                    json_object.pop(key)\n",
    "                    with open(os.path.join(self.dir_path,self.filename),\"w\") as f:\n",
    "                        json.dump(json_object,fp=f,indent=3)\n",
    "                else:\n",
    "            #Logic used for setting time to live property\n",
    "                    self.del_curr_time=datetime.now()\n",
    "                    self.diff_time=self.del_curr_time - datetime.strptime(json_object[key][2],\"%Y-%m-%d %H:%M:%S.%f\")\n",
    "                    if self.diff_time.seconds < json_object[key][1]:\n",
    "                        json_object.pop(key)\n",
    "                        with open(os.path.join(self.dir_path,self.filename),\"w\") as f:\n",
    "                            json.dump(json_object,fp=f,indent=3)\n",
    "                    else:\n",
    "                        raise RuntimeError(\"deletion failed!....key got expired\")\n",
    "            else:\n",
    "                raise KeyError(\"key not found\")\n",
    "        finally:\n",
    "            self.lock.release()\n",
    "    "
   ]
  },
  {
   "cell_type": "markdown",
   "metadata": {},
   "source": [
    "Testing the data store functional requirements"
   ]
  },
  {
   "cell_type": "code",
   "execution_count": 2,
   "metadata": {},
   "outputs": [],
   "source": [
    "#1.   This data store has exposed as a library to clients that can be instantiated by using  a class \"key_value_datastore\" and\n",
    "#can work with the data store.\n",
    "\n",
    "#2.   It can be initialized using an optional filepath or it will create itself in a reasonable location on the laptop\n",
    "\n",
    "student_data_store = key_value_datastore()\n",
    "\n",
    "#student_data_store = key_value_datastore(\"C:\\data store\",\"file.json\")"
   ]
  },
  {
   "cell_type": "code",
   "execution_count": 3,
   "metadata": {},
   "outputs": [],
   "source": [
    "#3.   A new key-value pair can be added to the data store using the Create operation.\n",
    "\n",
    "student_data_store.create(\"Name\",\"Sasidharan M\")\n",
    "student_data_store.create(\"Roll_No\",\"2017502560\")\n",
    "student_data_store.create(\"College\",\"MIT\")"
   ]
  },
  {
   "cell_type": "code",
   "execution_count": 4,
   "metadata": {},
   "outputs": [
    {
     "ename": "RuntimeError",
     "evalue": "key already exists",
     "output_type": "error",
     "traceback": [
      "\u001b[1;31m---------------------------------------------------------------------------\u001b[0m",
      "\u001b[1;31mRuntimeError\u001b[0m                              Traceback (most recent call last)",
      "\u001b[1;32m<ipython-input-4-6d1fdff21271>\u001b[0m in \u001b[0;36m<module>\u001b[1;34m\u001b[0m\n\u001b[0;32m      1\u001b[0m \u001b[1;31m#4.  Shows error when the key is already existed\u001b[0m\u001b[1;33m\u001b[0m\u001b[1;33m\u001b[0m\u001b[1;33m\u001b[0m\u001b[0m\n\u001b[0;32m      2\u001b[0m \u001b[1;33m\u001b[0m\u001b[0m\n\u001b[1;32m----> 3\u001b[1;33m \u001b[0mstudent_data_store\u001b[0m\u001b[1;33m.\u001b[0m\u001b[0mcreate\u001b[0m\u001b[1;33m(\u001b[0m\u001b[1;34m\"Name\"\u001b[0m\u001b[1;33m,\u001b[0m\u001b[1;34m\"sasi\"\u001b[0m\u001b[1;33m)\u001b[0m\u001b[1;33m\u001b[0m\u001b[1;33m\u001b[0m\u001b[0m\n\u001b[0m",
      "\u001b[1;32m<ipython-input-1-618debc72c2c>\u001b[0m in \u001b[0;36mcreate\u001b[1;34m(self, key, value, ttl)\u001b[0m\n\u001b[0;32m     52\u001b[0m                     \u001b[1;32mraise\u001b[0m \u001b[0mTypeError\u001b[0m\u001b[1;33m(\u001b[0m\u001b[1;34m\"key should be of string type\"\u001b[0m\u001b[1;33m)\u001b[0m\u001b[1;33m\u001b[0m\u001b[1;33m\u001b[0m\u001b[0m\n\u001b[0;32m     53\u001b[0m             \u001b[1;32melse\u001b[0m\u001b[1;33m:\u001b[0m\u001b[1;33m\u001b[0m\u001b[1;33m\u001b[0m\u001b[0m\n\u001b[1;32m---> 54\u001b[1;33m                 \u001b[1;32mraise\u001b[0m \u001b[0mRuntimeError\u001b[0m\u001b[1;33m(\u001b[0m\u001b[1;34m\"key already exists\"\u001b[0m\u001b[1;33m)\u001b[0m\u001b[1;33m\u001b[0m\u001b[1;33m\u001b[0m\u001b[0m\n\u001b[0m\u001b[0;32m     55\u001b[0m             \u001b[1;32mwith\u001b[0m \u001b[0mopen\u001b[0m\u001b[1;33m(\u001b[0m\u001b[0mos\u001b[0m\u001b[1;33m.\u001b[0m\u001b[0mpath\u001b[0m\u001b[1;33m.\u001b[0m\u001b[0mjoin\u001b[0m\u001b[1;33m(\u001b[0m\u001b[0mself\u001b[0m\u001b[1;33m.\u001b[0m\u001b[0mdir_path\u001b[0m\u001b[1;33m,\u001b[0m\u001b[0mself\u001b[0m\u001b[1;33m.\u001b[0m\u001b[0mfilename\u001b[0m\u001b[1;33m)\u001b[0m\u001b[1;33m,\u001b[0m\u001b[1;34m\"w\"\u001b[0m\u001b[1;33m)\u001b[0m \u001b[1;32mas\u001b[0m \u001b[0mf\u001b[0m\u001b[1;33m:\u001b[0m\u001b[1;33m\u001b[0m\u001b[1;33m\u001b[0m\u001b[0m\n\u001b[0;32m     56\u001b[0m                 \u001b[0mjson\u001b[0m\u001b[1;33m.\u001b[0m\u001b[0mdump\u001b[0m\u001b[1;33m(\u001b[0m\u001b[0mjson_object\u001b[0m\u001b[1;33m,\u001b[0m\u001b[0mfp\u001b[0m\u001b[1;33m=\u001b[0m\u001b[0mf\u001b[0m\u001b[1;33m,\u001b[0m\u001b[0mindent\u001b[0m\u001b[1;33m=\u001b[0m\u001b[1;36m3\u001b[0m\u001b[1;33m)\u001b[0m\u001b[1;33m\u001b[0m\u001b[1;33m\u001b[0m\u001b[0m\n",
      "\u001b[1;31mRuntimeError\u001b[0m: key already exists"
     ]
    }
   ],
   "source": [
    "#4.  Shows error when the key is already existed\n",
    "\n",
    "student_data_store.create(\"Name\",\"sasi\")"
   ]
  },
  {
   "cell_type": "code",
   "execution_count": 5,
   "metadata": {},
   "outputs": [
    {
     "ename": "TypeError",
     "evalue": "key should be of string type",
     "output_type": "error",
     "traceback": [
      "\u001b[1;31m---------------------------------------------------------------------------\u001b[0m",
      "\u001b[1;31mTypeError\u001b[0m                                 Traceback (most recent call last)",
      "\u001b[1;32m<ipython-input-5-c05a18571319>\u001b[0m in \u001b[0;36m<module>\u001b[1;34m\u001b[0m\n\u001b[0;32m      3\u001b[0m \u001b[1;31m#6.  Shows error when the value size is more than 16kb\u001b[0m\u001b[1;33m\u001b[0m\u001b[1;33m\u001b[0m\u001b[1;33m\u001b[0m\u001b[0m\n\u001b[0;32m      4\u001b[0m \u001b[1;33m\u001b[0m\u001b[0m\n\u001b[1;32m----> 5\u001b[1;33m \u001b[0mstudent_data_store\u001b[0m\u001b[1;33m.\u001b[0m\u001b[0mcreate\u001b[0m\u001b[1;33m(\u001b[0m\u001b[1;36m1\u001b[0m\u001b[1;33m,\u001b[0m\u001b[1;34m\"int\"\u001b[0m\u001b[1;33m)\u001b[0m\u001b[1;33m\u001b[0m\u001b[1;33m\u001b[0m\u001b[0m\n\u001b[0m",
      "\u001b[1;32m<ipython-input-1-618debc72c2c>\u001b[0m in \u001b[0;36mcreate\u001b[1;34m(self, key, value, ttl)\u001b[0m\n\u001b[0;32m     50\u001b[0m                         \u001b[1;32mraise\u001b[0m \u001b[0mValueError\u001b[0m\u001b[1;33m(\u001b[0m\u001b[1;34m\"key should contain only 32 characters\"\u001b[0m\u001b[1;33m)\u001b[0m\u001b[1;33m\u001b[0m\u001b[1;33m\u001b[0m\u001b[0m\n\u001b[0;32m     51\u001b[0m                 \u001b[1;32melse\u001b[0m\u001b[1;33m:\u001b[0m\u001b[1;33m\u001b[0m\u001b[1;33m\u001b[0m\u001b[0m\n\u001b[1;32m---> 52\u001b[1;33m                     \u001b[1;32mraise\u001b[0m \u001b[0mTypeError\u001b[0m\u001b[1;33m(\u001b[0m\u001b[1;34m\"key should be of string type\"\u001b[0m\u001b[1;33m)\u001b[0m\u001b[1;33m\u001b[0m\u001b[1;33m\u001b[0m\u001b[0m\n\u001b[0m\u001b[0;32m     53\u001b[0m             \u001b[1;32melse\u001b[0m\u001b[1;33m:\u001b[0m\u001b[1;33m\u001b[0m\u001b[1;33m\u001b[0m\u001b[0m\n\u001b[0;32m     54\u001b[0m                 \u001b[1;32mraise\u001b[0m \u001b[0mRuntimeError\u001b[0m\u001b[1;33m(\u001b[0m\u001b[1;34m\"key already exists\"\u001b[0m\u001b[1;33m)\u001b[0m\u001b[1;33m\u001b[0m\u001b[1;33m\u001b[0m\u001b[0m\n",
      "\u001b[1;31mTypeError\u001b[0m: key should be of string type"
     ]
    }
   ],
   "source": [
    "#5.  Shows error when the key is not string and has more than 32 chars.\n",
    "\n",
    "#6.  Shows error when the value size is more than 16kb\n",
    "\n",
    "student_data_store.create(1,\"int\")"
   ]
  },
  {
   "cell_type": "code",
   "execution_count": 6,
   "metadata": {},
   "outputs": [
    {
     "data": {
      "text/plain": [
       "'Sasidharan M'"
      ]
     },
     "execution_count": 6,
     "metadata": {},
     "output_type": "execute_result"
    }
   ],
   "source": [
    "#7.  A read operation on a key can be performed by providing a key\n",
    "\n",
    "student_data_store.Name"
   ]
  },
  {
   "cell_type": "code",
   "execution_count": 7,
   "metadata": {},
   "outputs": [],
   "source": [
    "#8.  A Delete operation can be performed by providing the key\n",
    "\n",
    "del student_data_store[\"College\"]"
   ]
  },
  {
   "cell_type": "code",
   "execution_count": 8,
   "metadata": {},
   "outputs": [
    {
     "data": {
      "text/plain": [
       "'A'"
      ]
     },
     "execution_count": 8,
     "metadata": {},
     "output_type": "execute_result"
    }
   ],
   "source": [
    "#9.  Time to live property can be set to key by providing the number of seconds the key need to be retaind in the data store \n",
    "#as an argument to the function.\n",
    "\n",
    "import time\n",
    "student_data_store.create(\"Section\",\"A\",ttl=15)\n",
    "time.sleep(10)\n",
    "student_data_store.Section"
   ]
  },
  {
   "cell_type": "code",
   "execution_count": 9,
   "metadata": {},
   "outputs": [
    {
     "ename": "RuntimeError",
     "evalue": "Key got expired",
     "output_type": "error",
     "traceback": [
      "\u001b[1;31m---------------------------------------------------------------------------\u001b[0m",
      "\u001b[1;31mRuntimeError\u001b[0m                              Traceback (most recent call last)",
      "\u001b[1;32m<ipython-input-9-8bb0183aace2>\u001b[0m in \u001b[0;36m<module>\u001b[1;34m\u001b[0m\n\u001b[0;32m      1\u001b[0m \u001b[0mstudent_data_store\u001b[0m\u001b[1;33m.\u001b[0m\u001b[0mcreate\u001b[0m\u001b[1;33m(\u001b[0m\u001b[1;34m\"Place\"\u001b[0m\u001b[1;33m,\u001b[0m\u001b[1;34m\"Chennai\"\u001b[0m\u001b[1;33m,\u001b[0m\u001b[1;36m5\u001b[0m\u001b[1;33m)\u001b[0m\u001b[1;33m\u001b[0m\u001b[1;33m\u001b[0m\u001b[0m\n\u001b[0;32m      2\u001b[0m \u001b[0mtime\u001b[0m\u001b[1;33m.\u001b[0m\u001b[0msleep\u001b[0m\u001b[1;33m(\u001b[0m\u001b[1;36m6\u001b[0m\u001b[1;33m)\u001b[0m\u001b[1;33m\u001b[0m\u001b[1;33m\u001b[0m\u001b[0m\n\u001b[1;32m----> 3\u001b[1;33m \u001b[0mstudent_data_store\u001b[0m\u001b[1;33m.\u001b[0m\u001b[0mPlace\u001b[0m\u001b[1;33m\u001b[0m\u001b[1;33m\u001b[0m\u001b[0m\n\u001b[0m",
      "\u001b[1;32m<ipython-input-1-618debc72c2c>\u001b[0m in \u001b[0;36m__getattr__\u001b[1;34m(self, key)\u001b[0m\n\u001b[0;32m     73\u001b[0m                         \u001b[1;32mreturn\u001b[0m \u001b[0mjson_object\u001b[0m\u001b[1;33m[\u001b[0m\u001b[0mkey\u001b[0m\u001b[1;33m]\u001b[0m\u001b[1;33m[\u001b[0m\u001b[1;36m0\u001b[0m\u001b[1;33m]\u001b[0m\u001b[1;33m\u001b[0m\u001b[1;33m\u001b[0m\u001b[0m\n\u001b[0;32m     74\u001b[0m                     \u001b[1;32melse\u001b[0m\u001b[1;33m:\u001b[0m\u001b[1;33m\u001b[0m\u001b[1;33m\u001b[0m\u001b[0m\n\u001b[1;32m---> 75\u001b[1;33m                         \u001b[1;32mraise\u001b[0m \u001b[0mRuntimeError\u001b[0m\u001b[1;33m(\u001b[0m\u001b[1;34m\"Key got expired\"\u001b[0m\u001b[1;33m)\u001b[0m\u001b[1;33m\u001b[0m\u001b[1;33m\u001b[0m\u001b[0m\n\u001b[0m\u001b[0;32m     76\u001b[0m                 \u001b[1;32melse\u001b[0m\u001b[1;33m:\u001b[0m\u001b[1;33m\u001b[0m\u001b[1;33m\u001b[0m\u001b[0m\n\u001b[0;32m     77\u001b[0m                     \u001b[1;32mreturn\u001b[0m \u001b[0mjson_object\u001b[0m\u001b[1;33m[\u001b[0m\u001b[0mkey\u001b[0m\u001b[1;33m]\u001b[0m\u001b[1;33m[\u001b[0m\u001b[1;36m0\u001b[0m\u001b[1;33m]\u001b[0m\u001b[1;33m\u001b[0m\u001b[1;33m\u001b[0m\u001b[0m\n",
      "\u001b[1;31mRuntimeError\u001b[0m: Key got expired"
     ]
    }
   ],
   "source": [
    "student_data_store.create(\"Place\",\"Chennai\",5)\n",
    "time.sleep(6)\n",
    "student_data_store.Place"
   ]
  },
  {
   "cell_type": "code",
   "execution_count": 10,
   "metadata": {},
   "outputs": [],
   "source": [
    "#10.  A client process is allowed to access the data store using multiple threads.\n",
    "\n",
    "import threading\n",
    "t1=threading.Thread(target=student_data_store.create(\"State\",\"Tamil Nadu\"))\n",
    "t2=threading.Thread(target=(student_data_store.__delitem__(\"State\")))\n",
    "t1.start()\n",
    "t2.start()\n",
    "t1.join()\n",
    "t2.join()"
   ]
  }
 ],
 "metadata": {
  "kernelspec": {
   "display_name": "Python 3",
   "language": "python",
   "name": "python3"
  },
  "language_info": {
   "codemirror_mode": {
    "name": "ipython",
    "version": 3
   },
   "file_extension": ".py",
   "mimetype": "text/x-python",
   "name": "python",
   "nbconvert_exporter": "python",
   "pygments_lexer": "ipython3",
   "version": "3.7.3"
  }
 },
 "nbformat": 4,
 "nbformat_minor": 2
}
